{
 "cells": [
  {
   "cell_type": "code",
   "execution_count": 1,
   "id": "b8ace606-6759-4c1b-b880-2ed468bb621a",
   "metadata": {},
   "outputs": [],
   "source": [
    "import torch\n",
    "import torch.nn as nn\n",
    "from torch.utils.data import DataLoader, random_split, TensorDataset\n",
    "import pandas as pd\n",
    "from sklearn.model_selection import train_test_split\n",
    "import time\n",
    "import matplotlib.pyplot as plt\n",
    "import math"
   ]
  },
  {
   "cell_type": "code",
   "execution_count": 2,
   "id": "ae57d112-f314-4ad6-84f0-5e2ed3c18a3b",
   "metadata": {},
   "outputs": [],
   "source": [
    "test_run = 2"
   ]
  },
  {
   "cell_type": "code",
   "execution_count": 3,
   "id": "67f00936-acbb-44f6-8a9f-8cd1bb921b7a",
   "metadata": {},
   "outputs": [],
   "source": [
    "class Model(nn.Module):\n",
    "    def __init__(self, input_num: int, layers: list[int], dropout_p: float = 0.5):\n",
    "        super(Model, self).__init__()\n",
    "\n",
    "        layers_list = []\n",
    "\n",
    "        in_num = input_num\n",
    "        for i in layers:\n",
    "            layers_list.append(nn.Linear(in_num, i))\n",
    "            layers_list.append(nn.ReLU(inplace=True))\n",
    "            layers_list.append(nn.BatchNorm1d(i))\n",
    "            layers_list.append(nn.Dropout(dropout_p))\n",
    "            in_num = i\n",
    "\n",
    "        layers_list.append(nn.Linear(layers[-1], 1))\n",
    "        self.layers = nn.Sequential(*layers_list)\n",
    "\n",
    "    def forward(self, x):\n",
    "        x = self.layers(x)\n",
    "        return x"
   ]
  },
  {
   "cell_type": "code",
   "execution_count": 4,
   "id": "dfff200b-bac0-4cae-b3fd-2d4d2bacfd48",
   "metadata": {},
   "outputs": [],
   "source": [
    "data = pd.read_csv('House_Rent_Dataset.csv')"
   ]
  },
  {
   "cell_type": "code",
   "execution_count": 5,
   "id": "d722938f-dff3-45c1-8260-1626df0e163a",
   "metadata": {},
   "outputs": [],
   "source": [
    "data.drop(columns='Area Locality', inplace=True)\n",
    "data.drop(columns='Posted On', inplace=True)\n",
    "data[\"Total Floors\"] = data[\"Floor\"].apply(lambda floor: floor.split()[-1]).replace('Ground', 1)\n",
    "data[\"Floor\"] = (data[\"Floor\"].apply(lambda floor: floor.split()[0])\n",
    "                     .replace('Ground', 0)\n",
    "                     .replace('Upper', 99)\n",
    "                     .replace('Lower', -1)).astype(\"int64\")\n",
    "\n",
    "data = pd.get_dummies(data, columns=['Area Type', 'City', 'Furnishing Status', 'Tenant Preferred', 'Point of '\n",
    "                                                                                                       'Contact'])"
   ]
  },
  {
   "cell_type": "code",
   "execution_count": 80,
   "id": "63397d03-9773-4dbe-af3a-6e24ff7cc2e1",
   "metadata": {},
   "outputs": [],
   "source": [
    "X = data.drop(columns='Rent', axis=1).astype('float32')\n",
    "y = data['Rent'].astype(\"int64\")"
   ]
  },
  {
   "cell_type": "code",
   "execution_count": 164,
   "id": "42598280-c618-4e51-81f2-7fbda0ccb3ab",
   "metadata": {},
   "outputs": [],
   "source": [
    "X_train, X_test, y_train, y_test = train_test_split(X, y, test_size=0.3, random_state=77)\n",
    "X_test, X_val, y_test, y_val = train_test_split(X_test, y_test, test_size=0.5, random_state=77)\n",
    "\n",
    "X_train = torch.FloatTensor(X_train.to_numpy())\n",
    "X_val = torch.FloatTensor(X_val.to_numpy())\n",
    "X_test = torch.FloatTensor(X_test.to_numpy())\n",
    "y_train = torch.FloatTensor(y_train.to_numpy()).reshape(-1,1)\n",
    "y_test = torch.FloatTensor(y_test.to_numpy()).reshape(-1,1)\n",
    "y_val = torch.FloatTensor(y_val.to_numpy()).reshape(-1,1)"
   ]
  },
  {
   "cell_type": "code",
   "execution_count": 174,
   "id": "a3ab10f3-e32d-4160-ba66-2c7341b94142",
   "metadata": {},
   "outputs": [],
   "source": [
    "torch.manual_seed(77)\n",
    "model = Model(X.shape[1], [200, 100, 50], 0.4)"
   ]
  },
  {
   "cell_type": "code",
   "execution_count": 175,
   "id": "306084e7-edd0-4e67-b42c-334b72924d69",
   "metadata": {},
   "outputs": [],
   "source": [
    "criterion = nn.MSELoss(reduction=\"mean\")\n",
    "optimizer = torch.optim.Adam(model.parameters(), lr=0.008)"
   ]
  },
  {
   "cell_type": "code",
   "execution_count": 176,
   "id": "bee1a6c4-4179-46d6-a7b8-3f5ab872509f",
   "metadata": {},
   "outputs": [
    {
     "name": "stdout",
     "output_type": "stream",
     "text": [
      "Epoch ( 50): Loss: 80876.24219\n",
      "Epoch (100): Loss: 80786.31250\n",
      "Epoch (150): Loss: 80707.65625\n",
      "Epoch (200): Loss: 80474.44531\n",
      "Epoch (250): Loss: 80364.09375\n",
      "Epoch (300): Loss: 79957.86719\n",
      "Epoch (350): Loss: 79686.03125\n",
      "Epoch (400): Loss: 79548.61719\n",
      "Epoch (450): Loss: 78921.87500\n",
      "Epoch (500): Loss: 78629.35938\n",
      "Epoch (550): Loss: 78610.61719\n",
      "Epoch (600): Loss: 77885.76562\n",
      "Epoch (650): Loss: 76576.13281\n",
      "Epoch (700): Loss: 77525.96094\n",
      "Epoch (750): Loss: 75273.70312\n",
      "Epoch (800): Loss: 74336.44531\n",
      "Epoch (850): Loss: 74988.07031\n",
      "Epoch (900): Loss: 73084.61719\n",
      "Epoch (950): Loss: 73767.75000\n",
      "Epoch (1000): Loss: 70786.71094\n",
      "Epoch (1050): Loss: 70885.12500\n",
      "Epoch (1100): Loss: 69908.39844\n",
      "Epoch (1150): Loss: 70480.46875\n",
      "Epoch (1200): Loss: 67741.46875\n",
      "Epoch (1250): Loss: 67776.14062\n",
      "Epoch (1300): Loss: 66883.59375\n",
      "Epoch (1350): Loss: 66109.68750\n",
      "Epoch (1400): Loss: 64589.94922\n",
      "Epoch (1450): Loss: 63236.08594\n",
      "Epoch (1500): Loss: 63923.76172\n",
      "Epoch (1550): Loss: 61856.63281\n",
      "Epoch (1600): Loss: 60096.88281\n",
      "Epoch (1650): Loss: 61336.75391\n",
      "Epoch (1700): Loss: 60759.84375\n",
      "Epoch (1750): Loss: 60291.42969\n",
      "Epoch (1800): Loss: 57121.66016\n",
      "Epoch (1850): Loss: 59243.93359\n",
      "Epoch (1900): Loss: 55079.41406\n",
      "Epoch (1950): Loss: 56164.71484\n",
      "Epoch (2000): Loss: 53844.24219\n",
      "Training duration: 34.06 seconds\n"
     ]
    }
   ],
   "source": [
    "epochs = 2000\n",
    "losses = []\n",
    "diffs = []\n",
    "start_time = time.time()\n",
    "for i in range(epochs):\n",
    "    i += 1\n",
    "    model.train()\n",
    "#    X_train, y_train = train_dataset.dataset.tensors\n",
    "    y_pred = model(X_train)\n",
    "    loss = torch.sqrt(criterion(y_pred, y_train))\n",
    "    optimizer.zero_grad()\n",
    "    loss.backward()\n",
    "    optimizer.step()\n",
    "\n",
    "    model.eval()\n",
    "    loss = 0.0\n",
    "    with torch.no_grad():\n",
    "#        X_val, y_val = val_dataset.dataset.tensors\n",
    "        y_pred = model(X_val)\n",
    "        loss = torch.sqrt(criterion(y_pred, y_val))\n",
    "    losses.append(loss.item())\n",
    "    if i % 50 == 0:\n",
    "        print(f\"Epoch ({i:3}): Loss: {losses[-1]:10.5f}\")\n",
    "\n",
    "print(f\"Training duration: {time.time() - start_time:.2f} seconds\")"
   ]
  },
  {
   "cell_type": "code",
   "execution_count": 161,
   "id": "ca1b789a-40c2-480d-bb10-0f95c500cc58",
   "metadata": {},
   "outputs": [
    {
     "name": "stdout",
     "output_type": "stream",
     "text": [
      "Train średni błąd: 10079.220, Błąd względny: 30.799 %\n"
     ]
    }
   ],
   "source": [
    "model.eval()\n",
    "criterion = nn.L1Loss(reduction=\"sum\")\n",
    "with torch.no_grad():\n",
    "#    X_train, y_train = train_dataset.dataset.tensors\n",
    "    y_pred = model.forward(X_train)\n",
    "    loss = criterion(y_pred, y_train)\n",
    "    print(f\"Train średni błąd: {(loss / len(X_train)):4.3f}, Błąd względny: {loss * 100/ torch.sum(y_train):4.3f} %\")"
   ]
  },
  {
   "cell_type": "code",
   "execution_count": 162,
   "id": "5829f804-977c-4fa6-a26e-10c6a90e8d82",
   "metadata": {},
   "outputs": [
    {
     "name": "stdout",
     "output_type": "stream",
     "text": [
      "Validation średni błąd: 13999.141, Błąd względny: 38.571 %\n"
     ]
    }
   ],
   "source": [
    "model.eval()\n",
    "criterion = nn.L1Loss(reduction=\"sum\")\n",
    "with torch.no_grad():\n",
    "#    X_val, y_val = val_dataset.dataset.tensors\n",
    "    y_pred = model.forward(X_val)\n",
    "    loss = criterion(y_pred, y_val)\n",
    "    print(f\"Validation średni błąd: {(loss / len(X_val)):4.3f}, Błąd względny: {loss * 100/ torch.sum(y_val):4.3f} %\")"
   ]
  },
  {
   "cell_type": "code",
   "execution_count": 163,
   "id": "c40d5e00-2cdf-4cac-86ea-e590dc129604",
   "metadata": {},
   "outputs": [
    {
     "name": "stdout",
     "output_type": "stream",
     "text": [
      "Test średni błąd: 17251.678, Błąd względny: 38.967 %\n"
     ]
    }
   ],
   "source": [
    "model.eval()\n",
    "criterion = nn.L1Loss(reduction=\"sum\")\n",
    "with torch.no_grad():\n",
    "#    X_test, y_test= test_dataset.dataset.tensors\n",
    "    y_pred = model.forward(X_test)\n",
    "    loss = criterion(y_pred, y_test)\n",
    "    print(f\"Test średni błąd: {(loss / len(X_test)):4.3f}, Błąd względny: {loss * 100/ torch.sum(y_test):4.3f} %\")"
   ]
  },
  {
   "cell_type": "code",
   "execution_count": 95,
   "id": "d9d16881-9c11-4fa0-b458-21dc3ba5ccc9",
   "metadata": {},
   "outputs": [
    {
     "data": {
      "text/plain": [
       "Text(0.5, 0, 'epoch')"
      ]
     },
     "execution_count": 95,
     "metadata": {},
     "output_type": "execute_result"
    },
    {
     "data": {
      "image/png": "[encoded data removed]",
      "text/plain": [
       "<Figure size 640x480 with 1 Axes>"
      ]
     },
     "metadata": {},
     "output_type": "display_data"
    }
   ],
   "source": [
    "plt.plot(range(epochs), losses)\n",
    "plt.ylabel('RMSE Loss')\n",
    "plt.xlabel('epoch')"
   ]
  },
  {
   "cell_type": "code",
   "execution_count": 16,
   "id": "e8f14489-a981-4396-a2b8-0007340bd314",
   "metadata": {},
   "outputs": [],
   "source": [
    "torch.save(model.state_dict(), f'Model_{test_run}.pt')"
   ]
  }
 ],
 "metadata": {
  "kernelspec": {
   "display_name": "Python 3 (ipykernel)",
   "language": "python",
   "name": "python3"
  },
  "language_info": {
   "codemirror_mode": {
    "name": "ipython",
    "version": 3
   },
   "file_extension": ".py",
   "mimetype": "text/x-python",
   "name": "python",
   "nbconvert_exporter": "python",
   "pygments_lexer": "ipython3",
   "version": "3.11.9"
  }
 },
 "nbformat": 4,
 "nbformat_minor": 5
}
