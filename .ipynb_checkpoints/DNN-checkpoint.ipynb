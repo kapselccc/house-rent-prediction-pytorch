{
 "cells": [
  {
   "cell_type": "code",
   "execution_count": 1,
   "id": "b8ace606-6759-4c1b-b880-2ed468bb621a",
   "metadata": {},
   "outputs": [],
   "source": [
    "import torch\n",
    "import torch.nn as nn\n",
    "from torch.utils.data import DataLoader, random_split, TensorDataset\n",
    "import pandas as pd\n",
    "from sklearn.model_selection import train_test_split\n",
    "import time\n",
    "import matplotlib.pyplot as plt\n",
    "import math"
   ]
  },
  {
   "cell_type": "code",
   "execution_count": 2,
   "id": "ae57d112-f314-4ad6-84f0-5e2ed3c18a3b",
   "metadata": {},
   "outputs": [],
   "source": [
    "test_run = 1"
   ]
  },
  {
   "cell_type": "code",
   "execution_count": 3,
   "id": "67f00936-acbb-44f6-8a9f-8cd1bb921b7a",
   "metadata": {},
   "outputs": [],
   "source": [
    "class Model(nn.Module):\n",
    "    def __init__(self, input_num: int, layers: list[int], dropout_p: float = 0.5):\n",
    "        super(Model, self).__init__()\n",
    "\n",
    "        layers_list = []\n",
    "\n",
    "        in_num = input_num\n",
    "        for i in layers:\n",
    "            layers_list.append(nn.Linear(in_num, i))\n",
    "            layers_list.append(nn.ReLU(inplace=True))\n",
    "            layers_list.append(nn.BatchNorm1d(i))\n",
    "            layers_list.append(nn.Dropout(dropout_p))\n",
    "            in_num = i\n",
    "\n",
    "        layers_list.append(nn.Linear(layers[-1], 1))\n",
    "        self.layers = nn.Sequential(*layers_list)\n",
    "\n",
    "    def forward(self, x):\n",
    "        x = self.layers(x)\n",
    "        return x"
   ]
  },
  {
   "cell_type": "code",
   "execution_count": 15,
   "id": "dfff200b-bac0-4cae-b3fd-2d4d2bacfd48",
   "metadata": {},
   "outputs": [],
   "source": [
    "data = pd.read_csv('House_Rent_Dataset.csv')"
   ]
  },
  {
   "cell_type": "code",
   "execution_count": 16,
   "id": "d722938f-dff3-45c1-8260-1626df0e163a",
   "metadata": {},
   "outputs": [],
   "source": [
    "data.drop(columns='Area Locality', inplace=True)\n",
    "data.drop(columns='Posted On', inplace=True)\n",
    "data[\"Total Floors\"] = data[\"Floor\"].apply(lambda floor: floor.split()[-1]).replace('Ground', 1)\n",
    "data[\"Floor\"] = (data[\"Floor\"].apply(lambda floor: floor.split()[0])\n",
    "                     .replace('Ground', 0)\n",
    "                     .replace('Upper', 99)\n",
    "                     .replace('Lower', -1)).astype(\"int64\")\n",
    "\n",
    "data = pd.get_dummies(data, columns=['Area Type', 'City', 'Furnishing Status', 'Tenant Preferred', 'Point of '\n",
    "                                                                                                       'Contact'])"
   ]
  },
  {
   "cell_type": "code",
   "execution_count": 17,
   "id": "56ed4974-7533-48fa-9bf3-0504e977f43b",
   "metadata": {},
   "outputs": [],
   "source": [
    "X = torch.FloatTensor(data.drop(columns='Rent', axis=1).astype('float32').to_numpy())\n",
    "y = torch.FloatTensor(data['Rent'].astype(\"int64\").to_numpy()).reshape(-1,1)\n"
   ]
  },
  {
   "cell_type": "markdown",
   "id": "154caf63-0879-4918-a13e-b464f4b55817",
   "metadata": {},
   "source": [
    "X_train, X_test, y_train, y_test = train_test_split(X, y, test_size=0.2, random_state=77)\n",
    "X_test, X_val, y_test, y_val = train_test_split(X_test, y_test, test_size=0.5, random_state=77)\n",
    "\n",
    "X_train = torch.FloatTensor(X_train.to_numpy())\n",
    "X_val = torch.FloatTensor(X_val.to_numpy())\n",
    "X_test = torch.FloatTensor(X_test.to_numpy())\n",
    "y_train = torch.FloatTensor(y_train.to_numpy()).reshape(-1,1)\n",
    "y_test = torch.FloatTensor(y_test.to_numpy()).reshape(-1,1)\n",
    "y_val = torch.FloatTensor(y_val.to_numpy()).reshape(-1,1)"
   ]
  },
  {
   "cell_type": "code",
   "execution_count": 18,
   "id": "62a65a64-70df-4d95-b1ce-982ba366406f",
   "metadata": {},
   "outputs": [],
   "source": [
    "dataset = TensorDataset(X, y)\n",
    "train_size = math.floor(0.7 * len(dataset))\n",
    "val_size = math.floor(0.15 * len(dataset))\n",
    "test_size = len(dataset) - train_size - val_size\n",
    "train_dataset, val_dataset, test_dataset = random_split(dataset, [train_size, val_size, test_size])"
   ]
  },
  {
   "cell_type": "code",
   "execution_count": 19,
   "id": "c137f4e8-e9ec-45fa-8e56-b19799808c05",
   "metadata": {},
   "outputs": [],
   "source": [
    "train_loader = DataLoader(train_dataset, batch_size=64, shuffle=True)\n",
    "val_loader = DataLoader(val_dataset, batch_size=64, shuffle=False)\n",
    "test_loader = DataLoader(test_dataset, batch_size=64, shuffle=False)"
   ]
  },
  {
   "cell_type": "code",
   "execution_count": 20,
   "id": "a3ab10f3-e32d-4160-ba66-2c7341b94142",
   "metadata": {},
   "outputs": [],
   "source": [
    "torch.manual_seed(77)\n",
    "model = Model(X.shape[1], [400, 200, 100], 0.4)"
   ]
  },
  {
   "cell_type": "code",
   "execution_count": 21,
   "id": "306084e7-edd0-4e67-b42c-334b72924d69",
   "metadata": {},
   "outputs": [],
   "source": [
    "criterion = nn.MSELoss()\n",
    "criterion2 = nn.L1Loss()\n",
    "#criterion = nn.L1Loss()\n",
    "optimizer = torch.optim.Adam(model.parameters(), lr=0.01)"
   ]
  },
  {
   "cell_type": "code",
   "execution_count": 22,
   "id": "bee1a6c4-4179-46d6-a7b8-3f5ab872509f",
   "metadata": {},
   "outputs": [
    {
     "name": "stdout",
     "output_type": "stream",
     "text": [
      "Epoch (  1): Loss: 30097.52352\n",
      "Epoch ( 11): Loss: 23563.44124\n",
      "Epoch ( 21): Loss: 13179.40129\n",
      "Epoch ( 31): Loss: 14706.03410\n",
      "Epoch ( 41): Loss: 19821.65633\n",
      "Epoch ( 51): Loss: 13629.68290\n",
      "Epoch ( 61): Loss: 29347.54517\n",
      "Epoch ( 71): Loss: 11105.86601\n",
      "Epoch ( 81): Loss: 12318.99756\n",
      "Epoch ( 91): Loss: 12085.94946\n",
      "Epoch (101): Loss: 11545.03292\n",
      "Epoch (111): Loss: 13804.13090\n",
      "Epoch (121): Loss: 11318.44238\n",
      "Epoch (131): Loss: 11606660.09709\n",
      "Epoch (141): Loss: 24546.26762\n",
      "Epoch (151): Loss: 229376.70939\n",
      "Epoch (161): Loss: 20875.07414\n",
      "Epoch (171): Loss: 13345.58366\n",
      "Epoch (181): Loss: 15762.50057\n",
      "Epoch (191): Loss: 10880.46061\n",
      "Epoch (201): Loss: 11205.69666\n",
      "Epoch (211): Loss: 13245.76432\n",
      "Epoch (221): Loss: 16486.37358\n",
      "Epoch (231): Loss: 23493.46916\n",
      "Epoch (241): Loss: 531268.70361\n",
      "Epoch (251): Loss: 13749.05599\n",
      "Epoch (261): Loss: 15182.03491\n",
      "Epoch (271): Loss: 13748.88900\n",
      "Epoch (281): Loss: 18564.46663\n",
      "Epoch (291): Loss: 57684.28573\n",
      "Final loss after 300 epochs: 811300.66870\n",
      "Duration: 97.53 seconds\n"
     ]
    }
   ],
   "source": [
    "epochs = 300\n",
    "losses = []\n",
    "start_time = time.time()\n",
    "for i in range(epochs):\n",
    "    i += 1\n",
    "    model.train()\n",
    "    for X_train, y_train in train_loader:        \n",
    "        y_pred = model(X_train)\n",
    "        loss = torch.sqrt(criterion(y_pred, y_train))\n",
    "        optimizer.zero_grad()\n",
    "        loss.backward()\n",
    "        optimizer.step()\n",
    "\n",
    "    model.eval()\n",
    "    val_loss = 0.0\n",
    "    with torch.no_grad():\n",
    "        for X_val, y_val in val_loader:\n",
    "            y_pred = model(X_val)\n",
    "            loss = torch.sqrt(criterion(y_pred, y_val))\n",
    "            val_loss += loss.item()\n",
    "    losses.append(val_loss / len(val_loader))\n",
    "    if i % 10 == 1:\n",
    "        print(f\"Epoch ({i:3}): Loss: {losses[-1]:10.5f}\")\n",
    "    \n",
    "\n",
    "print(f\"Final loss after {epochs} epochs: {losses[-1]:8.5f}\")\n",
    "print(f\"Duration: {time.time() - start_time:.2f} seconds\")"
   ]
  },
  {
   "cell_type": "code",
   "execution_count": 24,
   "id": "d9d16881-9c11-4fa0-b458-21dc3ba5ccc9",
   "metadata": {},
   "outputs": [
    {
     "data": {
      "text/plain": [
       "Text(0.5, 0, 'epoch')"
      ]
     },
     "execution_count": 24,
     "metadata": {},
     "output_type": "execute_result"
    },
    {
     "data": {
      "image/png": "[encoded data removed]",
      "text/plain": [
       "<Figure size 640x480 with 1 Axes>"
      ]
     },
     "metadata": {},
     "output_type": "display_data"
    }
   ],
   "source": [
    "plt.plot(range(epochs), losses)\n",
    "plt.ylabel('RMSE Loss')\n",
    "plt.xlabel('epoch')"
   ]
  },
  {
   "cell_type": "code",
   "execution_count": null,
   "id": "8353a309-1cb0-43cd-82da-1d88a9791ed1",
   "metadata": {},
   "outputs": [],
   "source": [
    "criterion = nn.L1Loss()\n",
    "with torch.no_grad():\n",
    "    y_pred = model(X_val)\n",
    "    loss = torch.sqrt(criterion(y_pred, y_val))\n",
    "    print(f\"Validation loss after {epochs} epochs: {loss.item():8.5f}\")"
   ]
  },
  {
   "cell_type": "code",
   "execution_count": null,
   "id": "e8f14489-a981-4396-a2b8-0007340bd314",
   "metadata": {},
   "outputs": [],
   "source": []
  }
 ],
 "metadata": {
  "kernelspec": {
   "display_name": "Python 3 (ipykernel)",
   "language": "python",
   "name": "python3"
  },
  "language_info": {
   "codemirror_mode": {
    "name": "ipython",
    "version": 3
   },
   "file_extension": ".py",
   "mimetype": "text/x-python",
   "name": "python",
   "nbconvert_exporter": "python",
   "pygments_lexer": "ipython3",
   "version": "3.11.9"
  }
 },
 "nbformat": 4,
 "nbformat_minor": 5
}
