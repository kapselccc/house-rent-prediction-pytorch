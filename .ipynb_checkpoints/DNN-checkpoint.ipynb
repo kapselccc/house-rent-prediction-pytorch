{
 "cells": [
  {
   "cell_type": "code",
   "execution_count": 1,
   "id": "b8ace606-6759-4c1b-b880-2ed468bb621a",
   "metadata": {},
   "outputs": [],
   "source": [
    "import torch\n",
    "import torch.nn as nn\n",
    "import pandas as pd\n",
    "from sklearn.model_selection import train_test_split\n",
    "import time\n",
    "import matplotlib.pyplot as plt"
   ]
  },
  {
   "cell_type": "code",
   "execution_count": 2,
   "id": "ae57d112-f314-4ad6-84f0-5e2ed3c18a3b",
   "metadata": {},
   "outputs": [],
   "source": [
    "test_run = 1"
   ]
  },
  {
   "cell_type": "code",
   "execution_count": 3,
   "id": "67f00936-acbb-44f6-8a9f-8cd1bb921b7a",
   "metadata": {},
   "outputs": [],
   "source": [
    "class Model(nn.Module):\n",
    "    def __init__(self, input_num: int, layers: list[int], dropout_p: float = 0.5):\n",
    "        super(Model, self).__init__()\n",
    "\n",
    "        layers_list = []\n",
    "\n",
    "        in_num = input_num\n",
    "        for i in layers:\n",
    "            layers_list.append(nn.Linear(in_num, i))\n",
    "            layers_list.append(nn.ReLU(inplace=True))\n",
    "            layers_list.append(nn.BatchNorm1d(i))\n",
    "            layers_list.append(nn.Dropout(dropout_p))\n",
    "            in_num = i\n",
    "\n",
    "        layers_list.append(nn.Linear(layers[-1], 1))\n",
    "        self.layers = nn.Sequential(*layers_list)\n",
    "\n",
    "    def forward(self, x):\n",
    "        x = self.layers(x)\n",
    "        return x"
   ]
  },
  {
   "cell_type": "code",
   "execution_count": 4,
   "id": "dfff200b-bac0-4cae-b3fd-2d4d2bacfd48",
   "metadata": {},
   "outputs": [],
   "source": [
    "data = pd.read_csv('House_Rent_Dataset.csv')"
   ]
  },
  {
   "cell_type": "code",
   "execution_count": 5,
   "id": "d722938f-dff3-45c1-8260-1626df0e163a",
   "metadata": {},
   "outputs": [],
   "source": [
    "data.drop(columns='Area Locality', inplace=True)\n",
    "data.drop(columns='Posted On', inplace=True)\n",
    "data[\"Total Floors\"] = data[\"Floor\"].apply(lambda floor: floor.split()[-1]).replace('Ground', 1)\n",
    "data[\"Floor\"] = (data[\"Floor\"].apply(lambda floor: floor.split()[0])\n",
    "                     .replace('Ground', 0)\n",
    "                     .replace('Upper', 99)\n",
    "                     .replace('Lower', -1)).astype(\"int64\")\n",
    "\n",
    "data = pd.get_dummies(data, columns=['Area Type', 'City', 'Furnishing Status', 'Tenant Preferred', 'Point of '\n",
    "                                                                                                       'Contact'])"
   ]
  },
  {
   "cell_type": "code",
   "execution_count": 6,
   "id": "56ed4974-7533-48fa-9bf3-0504e977f43b",
   "metadata": {},
   "outputs": [],
   "source": [
    "X = data.drop(columns='Rent', axis=1).astype(\"float\")\n",
    "y = data['Rent'].astype(\"float\")\n",
    "\n",
    "X_train, X_test, y_train, y_test = train_test_split(X, y, test_size=0.2, random_state=77)\n",
    "X_test, X_val, y_test, y_val = train_test_split(X_test, y_test, test_size=0.5, random_state=77)\n",
    "\n",
    "X_train = torch.LongTensor(X_train.to_numpy())\n",
    "X_val = torch.LongTensor(X_val.to_numpy())\n",
    "X_test = torch.LongTensor(X_test.to_numpy())\n",
    "y_train = torch.FloatTensor(y_train.to_numpy())\n",
    "y_test = torch.FloatTensor(y_test.to_numpy())\n",
    "y_val = torch.FloatTensor(y_val.to_numpy())"
   ]
  },
  {
   "cell_type": "code",
   "execution_count": 7,
   "id": "a3ab10f3-e32d-4160-ba66-2c7341b94142",
   "metadata": {},
   "outputs": [],
   "source": [
    "torch.manual_seed(77)\n",
    "model = Model(X.shape[1], [200, 100], 0.4)"
   ]
  },
  {
   "cell_type": "code",
   "execution_count": 12,
   "id": "6b136af7-82a8-47b0-83f8-66375f0b4186",
   "metadata": {},
   "outputs": [
    {
     "data": {
      "text/plain": [
       "tensor([  4500.,  26000.,  16500.,  ...,  32000.,  18000., 170000.])"
      ]
     },
     "execution_count": 12,
     "metadata": {},
     "output_type": "execute_result"
    }
   ],
   "source": [
    "y_train"
   ]
  },
  {
   "cell_type": "code",
   "execution_count": 9,
   "id": "306084e7-edd0-4e67-b42c-334b72924d69",
   "metadata": {},
   "outputs": [],
   "source": [
    "criterion = nn.MSELoss()\n",
    "optimizer = torch.optim.Adam(model.parameters(), lr=0.001)"
   ]
  },
  {
   "cell_type": "code",
   "execution_count": 10,
   "id": "bee1a6c4-4179-46d6-a7b8-3f5ab872509f",
   "metadata": {},
   "outputs": [
    {
     "name": "stderr",
     "output_type": "stream",
     "text": [
      "C:\\Users\\Kacper\\anaconda3\\envs\\pytorchenv\\Lib\\site-packages\\torch\\nn\\modules\\loss.py:535: UserWarning: Using a target size (torch.Size([3796])) that is different to the input size (torch.Size([3796, 1])). This will likely lead to incorrect results due to broadcasting. Please ensure they have the same size.\n",
      "  return F.mse_loss(input, target, reduction=self.reduction)\n"
     ]
    },
    {
     "name": "stdout",
     "output_type": "stream",
     "text": [
      "Epoch (  1): Loss: 20291849929443246080.00000\n",
      "Epoch (  2): Loss: 20291832337257201664.00000\n",
      "Epoch (  3): Loss: 20291836735303712768.00000\n",
      "Epoch (  4): Loss: 20291841133350223872.00000\n",
      "Epoch (  5): Loss: 20291836735303712768.00000\n",
      "Epoch (  6): Loss: 20291836735303712768.00000\n",
      "Epoch (  7): Loss: 20291832337257201664.00000\n",
      "Epoch (  8): Loss: 20291819143117668352.00000\n",
      "Epoch (  9): Loss: 20291832337257201664.00000\n",
      "Epoch ( 11): Loss: 20291808148001390592.00000\n",
      "Epoch ( 12): Loss: 20291803749954879488.00000\n",
      "Epoch ( 13): Loss: 20291803749954879488.00000\n",
      "Epoch ( 14): Loss: 20291803749954879488.00000\n",
      "Epoch ( 15): Loss: 20291790555815346176.00000\n",
      "Epoch ( 16): Loss: 20291777361675812864.00000\n",
      "Epoch ( 17): Loss: 20291777361675812864.00000\n",
      "Epoch ( 18): Loss: 20291786157768835072.00000\n",
      "Epoch ( 19): Loss: 20291777361675812864.00000\n",
      "Epoch ( 21): Loss: 20291772963629301760.00000\n",
      "Epoch ( 22): Loss: 20291764167536279552.00000\n",
      "Epoch ( 23): Loss: 20291772963629301760.00000\n",
      "Epoch ( 24): Loss: 20291757570466512896.00000\n",
      "Epoch ( 25): Loss: 20291753172420001792.00000\n",
      "Epoch ( 26): Loss: 20291735580233957376.00000\n",
      "Epoch ( 27): Loss: 20291739978280468480.00000\n",
      "Epoch ( 28): Loss: 20291726784140935168.00000\n",
      "Epoch ( 29): Loss: 20291722386094424064.00000\n",
      "Epoch ( 31): Loss: 20291706992931635200.00000\n",
      "Epoch ( 32): Loss: 20291706992931635200.00000\n",
      "Epoch ( 33): Loss: 20291702594885124096.00000\n",
      "Epoch ( 34): Loss: 20291685002699079680.00000\n",
      "Epoch ( 35): Loss: 20291680604652568576.00000\n",
      "Epoch ( 36): Loss: 20291680604652568576.00000\n",
      "Epoch ( 37): Loss: 20291660813443268608.00000\n",
      "Epoch ( 38): Loss: 20291660813443268608.00000\n",
      "Epoch ( 39): Loss: 20291647619303735296.00000\n",
      "Epoch ( 41): Loss: 20291630027117690880.00000\n",
      "Epoch ( 42): Loss: 20291630027117690880.00000\n",
      "Epoch ( 43): Loss: 20291619032001413120.00000\n",
      "Epoch ( 44): Loss: 20291597041768857600.00000\n",
      "Epoch ( 45): Loss: 20291597041768857600.00000\n",
      "Epoch ( 46): Loss: 20291579449582813184.00000\n",
      "Epoch ( 47): Loss: 20291568454466535424.00000\n",
      "Epoch ( 48): Loss: 20291564056420024320.00000\n",
      "Epoch ( 49): Loss: 20291559658373513216.00000\n",
      "Epoch ( 51): Loss: 20291528872047935488.00000\n",
      "Epoch ( 52): Loss: 20291517876931657728.00000\n",
      "Epoch ( 53): Loss: 20291513478885146624.00000\n",
      "Epoch ( 54): Loss: 20291495886699102208.00000\n",
      "Epoch ( 55): Loss: 20291495886699102208.00000\n",
      "Epoch ( 56): Loss: 20291462901350268928.00000\n",
      "Epoch ( 57): Loss: 20291454105257246720.00000\n",
      "Epoch ( 58): Loss: 20291429916001435648.00000\n",
      "Epoch ( 59): Loss: 20291440911117713408.00000\n",
      "Epoch ( 61): Loss: 20291403527722369024.00000\n",
      "Epoch ( 62): Loss: 20291390333582835712.00000\n",
      "Epoch ( 63): Loss: 20291374940420046848.00000\n",
      "Epoch ( 64): Loss: 20291357348234002432.00000\n",
      "Epoch ( 65): Loss: 20291357348234002432.00000\n",
      "Epoch ( 66): Loss: 20291315566792146944.00000\n",
      "Epoch ( 67): Loss: 20291306770699124736.00000\n",
      "Epoch ( 68): Loss: 20291311168745635840.00000\n",
      "Epoch ( 69): Loss: 20291293576559591424.00000\n",
      "Epoch ( 71): Loss: 20291247397071224832.00000\n",
      "Epoch ( 72): Loss: 20291247397071224832.00000\n",
      "Epoch ( 73): Loss: 20291223207815413760.00000\n",
      "Epoch ( 74): Loss: 20291201217582858240.00000\n",
      "Epoch ( 75): Loss: 20291172630280536064.00000\n",
      "Epoch ( 76): Loss: 20291150640047980544.00000\n",
      "Epoch ( 77): Loss: 20291155038094491648.00000\n",
      "Epoch ( 78): Loss: 20291139644931702784.00000\n",
      "Epoch ( 79): Loss: 20291104460559613952.00000\n",
      "Epoch ( 81): Loss: 20291067077164269568.00000\n",
      "Epoch ( 82): Loss: 20291042887908458496.00000\n",
      "Epoch ( 83): Loss: 20291029693768925184.00000\n",
      "Epoch ( 84): Loss: 20290987912327069696.00000\n",
      "Epoch ( 85): Loss: 20290974718187536384.00000\n",
      "Epoch ( 86): Loss: 20290983514280558592.00000\n",
      "Epoch ( 87): Loss: 20290919742606147584.00000\n",
      "Epoch ( 88): Loss: 20290904349443358720.00000\n",
      "Epoch ( 89): Loss: 20290891155303825408.00000\n",
      "Epoch ( 91): Loss: 20290858169954992128.00000\n",
      "Epoch ( 92): Loss: 20290822985582903296.00000\n",
      "Epoch ( 93): Loss: 20290794398280581120.00000\n",
      "Epoch ( 94): Loss: 20290761412931747840.00000\n",
      "Epoch ( 95): Loss: 20290757014885236736.00000\n",
      "Epoch ( 96): Loss: 20290730626606170112.00000\n",
      "Epoch ( 97): Loss: 20290706437350359040.00000\n",
      "Epoch ( 98): Loss: 20290673452001525760.00000\n",
      "Epoch ( 99): Loss: 20290647063722459136.00000\n",
      "Epoch (101): Loss: 20290587690094559232.00000\n",
      "Epoch (102): Loss: 20290563500838748160.00000\n",
      "Epoch (103): Loss: 20290559102792237056.00000\n",
      "Epoch (104): Loss: 20290530515489914880.00000\n",
      "Epoch (105): Loss: 20290484336001548288.00000\n",
      "Epoch (106): Loss: 20290457947722481664.00000\n",
      "Epoch (107): Loss: 20290424962373648384.00000\n",
      "Epoch (108): Loss: 20290420564327137280.00000\n",
      "Epoch (109): Loss: 20290369986792259584.00000\n",
      "Epoch (111): Loss: 20290332603396915200.00000\n",
      "Epoch (112): Loss: 20290282025862037504.00000\n",
      "Epoch (113): Loss: 20290227050280648704.00000\n",
      "Epoch (114): Loss: 20290198462978326528.00000\n",
      "Epoch (115): Loss: 20290213856141115392.00000\n",
      "Epoch (116): Loss: 20290167676652748800.00000\n",
      "Epoch (117): Loss: 20290121497164382208.00000\n",
      "Epoch (118): Loss: 20290084113769037824.00000\n",
      "Epoch (119): Loss: 20290059924513226752.00000\n",
      "Epoch (121): Loss: 20290009346978349056.00000\n",
      "Epoch (122): Loss: 20289916988001615872.00000\n",
      "Epoch (123): Loss: 20289932381164404736.00000\n",
      "Epoch (124): Loss: 20289903793862082560.00000\n",
      "Epoch (125): Loss: 20289862012420227072.00000\n",
      "Epoch (126): Loss: 20289844420234182656.00000\n",
      "Epoch (127): Loss: 20289789444652793856.00000\n",
      "Epoch (128): Loss: 20289760857350471680.00000\n",
      "Epoch (129): Loss: 20289723473955127296.00000\n",
      "Epoch (131): Loss: 20289622318885371904.00000\n",
      "Epoch (132): Loss: 20289609124745838592.00000\n",
      "Epoch (133): Loss: 20289562945257472000.00000\n",
      "Epoch (134): Loss: 20289554149164449792.00000\n",
      "Epoch (135): Loss: 20289483780420272128.00000\n",
      "Epoch (136): Loss: 20289437600931905536.00000\n",
      "Epoch (137): Loss: 20289406814606327808.00000\n",
      "Epoch (138): Loss: 20289365033164472320.00000\n",
      "Epoch (139): Loss: 20289356237071450112.00000\n",
      "Epoch (141): Loss: 20289252882978439168.00000\n",
      "Epoch (142): Loss: 20289213300559839232.00000\n",
      "Epoch (143): Loss: 20289171519117983744.00000\n",
      "Epoch (144): Loss: 20289101150373806080.00000\n",
      "Epoch (145): Loss: 20289074762094739456.00000\n",
      "Epoch (146): Loss: 20289059368931950592.00000\n",
      "Epoch (147): Loss: 20289024184559861760.00000\n",
      "Epoch (148): Loss: 20288978005071495168.00000\n",
      "Epoch (149): Loss: 20288890044141273088.00000\n",
      "Epoch (151): Loss: 20288843864652906496.00000\n",
      "Epoch (152): Loss: 20288782292001751040.00000\n",
      "Epoch (153): Loss: 20288764699815706624.00000\n",
      "Epoch (154): Loss: 20288700928141295616.00000\n",
      "Epoch (155): Loss: 20288617365257584640.00000\n",
      "Epoch (156): Loss: 20288599773071540224.00000\n",
      "Epoch (157): Loss: 20288549195536662528.00000\n",
      "Epoch (158): Loss: 20288507414094807040.00000\n",
      "Epoch (159): Loss: 20288503016048295936.00000\n",
      "Epoch (161): Loss: 20288377671722729472.00000\n",
      "Epoch (162): Loss: 20288368875629707264.00000\n",
      "Epoch (163): Loss: 20288272118606462976.00000\n",
      "Epoch (164): Loss: 20288230337164607488.00000\n",
      "Epoch (165): Loss: 20288164366466940928.00000\n",
      "Epoch (166): Loss: 20288124784048340992.00000\n",
      "Epoch (167): Loss: 20288078604559974400.00000\n",
      "Epoch (168): Loss: 20288012633862307840.00000\n",
      "Epoch (169): Loss: 20288008235815796736.00000\n",
      "Epoch (171): Loss: 20287865299304185856.00000\n",
      "Epoch (172): Loss: 20287838911025119232.00000\n",
      "Epoch (173): Loss: 20287768542280941568.00000\n",
      "Epoch (174): Loss: 20287731158885597184.00000\n",
      "Epoch (175): Loss: 20287709168653041664.00000\n",
      "Epoch (176): Loss: 20287654193071652864.00000\n",
      "Epoch (177): Loss: 20287570630187941888.00000\n",
      "Epoch (178): Loss: 20287524450699575296.00000\n",
      "Epoch (179): Loss: 20287460679025164288.00000\n",
      "Epoch (181): Loss: 20287377116141453312.00000\n",
      "Epoch (182): Loss: 20287315543490297856.00000\n",
      "Epoch (183): Loss: 20287225383536820224.00000\n",
      "Epoch (184): Loss: 20287201194281009152.00000\n",
      "Epoch (185): Loss: 20287137422606598144.00000\n",
      "Epoch (186): Loss: 20287100039211253760.00000\n",
      "Epoch (187): Loss: 20287058257769398272.00000\n",
      "Epoch (188): Loss: 20287012078281031680.00000\n",
      "Epoch (189): Loss: 20286939510513598464.00000\n",
      "Epoch (191): Loss: 20286840554467098624.00000\n",
      "Epoch (192): Loss: 20286759190606643200.00000\n",
      "Epoch (193): Loss: 20286662433583398912.00000\n",
      "Epoch (194): Loss: 20286642642374098944.00000\n",
      "Epoch (195): Loss: 20286565676560154624.00000\n",
      "Epoch (196): Loss: 20286561278513643520.00000\n",
      "Epoch (197): Loss: 20286407346885754880.00000\n",
      "Epoch (198): Loss: 20286398550792732672.00000\n",
      "Epoch (199): Loss: 20286356769350877184.00000\n",
      "Final loss after 200 epochs: 20286284201583443968.00000\n",
      "Duration: 10.54 seconds\n"
     ]
    }
   ],
   "source": [
    "epochs = 200\n",
    "losses = []\n",
    "start_time = time.time()\n",
    "for i in range(epochs):\n",
    "    i += 1\n",
    "    y_pred = model(X_train)\n",
    "    loss = torch.square(criterion(y_pred, y_train))\n",
    "    losses.append(loss.item())\n",
    "\n",
    "    if i % 10:\n",
    "        print(f\"Epoch ({i:3}): Loss: {loss.item():8.5f}\")\n",
    "\n",
    "    optimizer.zero_grad()\n",
    "    loss.backward()\n",
    "    optimizer.step()\n",
    "\n",
    "print(f\"Final loss after {epochs} epochs: {losses[-1]:8.5f}\")\n",
    "print(f\"Duration: {time.time() - start_time:.2f} seconds\")"
   ]
  },
  {
   "cell_type": "code",
   "execution_count": 11,
   "id": "d9d16881-9c11-4fa0-b458-21dc3ba5ccc9",
   "metadata": {},
   "outputs": [
    {
     "data": {
      "text/plain": [
       "Text(0.5, 0, 'epoch')"
      ]
     },
     "execution_count": 11,
     "metadata": {},
     "output_type": "execute_result"
    },
    {
     "data": {
      "image/png": "[encoded data removed]",
      "text/plain": [
       "<Figure size 640x480 with 1 Axes>"
      ]
     },
     "metadata": {},
     "output_type": "display_data"
    }
   ],
   "source": [
    "plt.plot(range(epochs), losses)\n",
    "plt.ylabel('RMSE Loss')\n",
    "plt.xlabel('epoch')"
   ]
  }
 ],
 "metadata": {
  "kernelspec": {
   "display_name": "Python 3 (ipykernel)",
   "language": "python",
   "name": "python3"
  },
  "language_info": {
   "codemirror_mode": {
    "name": "ipython",
    "version": 3
   },
   "file_extension": ".py",
   "mimetype": "text/x-python",
   "name": "python",
   "nbconvert_exporter": "python",
   "pygments_lexer": "ipython3",
   "version": "3.11.9"
  }
 },
 "nbformat": 4,
 "nbformat_minor": 5
}
